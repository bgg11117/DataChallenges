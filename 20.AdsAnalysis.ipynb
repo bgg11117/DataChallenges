{
 "cells": [
  {
   "cell_type": "markdown",
   "metadata": {},
   "source": [
    "Examples from the book \"A collection of Data Science Takehome Challenges\" <br> \n",
    "Ref from <br> \n",
    "1. [stasi009/TakeHomeDataChallenges](https://github.com/stasi009/TakeHomeDataChallenges/blob/master/20.AdsAnalysis/analyze_ads.py)<br>\n",
    "2. [JifuZhao/DS-Take-Home](https://github.com/JifuZhao/DS-Take-Home) <br>\n",
    "3. [ishaojunzhang/ads](https://github.com/ishaojunzhang/ads/blob/master/ads_analysis.ipynb)"
   ]
  },
  {
   "cell_type": "code",
   "execution_count": 1,
   "metadata": {},
   "outputs": [],
   "source": [
    "import itertools\n",
    "import pandas as pd\n",
    "import numpy as np\n",
    "import matplotlib.pyplot as plt\n",
    "plt.style.use('ggplot')\n",
    "import scipy.linalg as slin\n",
    "from sklearn.linear_model import LinearRegression"
   ]
  },
  {
   "cell_type": "code",
   "execution_count": 2,
   "metadata": {},
   "outputs": [],
   "source": [
    "ads = pd.read_csv(\"../Documents/Data/ad_table.csv\")\n",
    "ads['date'] = pd.to_datetime(ads.date)\n",
    "ads.rename(columns={\"avg_cost_per_click\":\"cost\",'total_revenue':'revenue'},inplace=True)"
   ]
  },
  {
   "cell_type": "code",
   "execution_count": 3,
   "metadata": {},
   "outputs": [
    {
     "name": "stdout",
     "output_type": "stream",
     "text": [
      "(2115, 7)\n"
     ]
    },
    {
     "data": {
      "text/html": [
       "<div>\n",
       "<style scoped>\n",
       "    .dataframe tbody tr th:only-of-type {\n",
       "        vertical-align: middle;\n",
       "    }\n",
       "\n",
       "    .dataframe tbody tr th {\n",
       "        vertical-align: top;\n",
       "    }\n",
       "\n",
       "    .dataframe thead th {\n",
       "        text-align: right;\n",
       "    }\n",
       "</style>\n",
       "<table border=\"1\" class=\"dataframe\">\n",
       "  <thead>\n",
       "    <tr style=\"text-align: right;\">\n",
       "      <th></th>\n",
       "      <th>date</th>\n",
       "      <th>shown</th>\n",
       "      <th>clicked</th>\n",
       "      <th>converted</th>\n",
       "      <th>cost</th>\n",
       "      <th>revenue</th>\n",
       "      <th>ad</th>\n",
       "    </tr>\n",
       "  </thead>\n",
       "  <tbody>\n",
       "    <tr>\n",
       "      <th>0</th>\n",
       "      <td>2015-10-01</td>\n",
       "      <td>65877</td>\n",
       "      <td>2339</td>\n",
       "      <td>43</td>\n",
       "      <td>0.90</td>\n",
       "      <td>641.62</td>\n",
       "      <td>ad_group_1</td>\n",
       "    </tr>\n",
       "    <tr>\n",
       "      <th>1</th>\n",
       "      <td>2015-10-02</td>\n",
       "      <td>65100</td>\n",
       "      <td>2498</td>\n",
       "      <td>38</td>\n",
       "      <td>0.94</td>\n",
       "      <td>756.37</td>\n",
       "      <td>ad_group_1</td>\n",
       "    </tr>\n",
       "    <tr>\n",
       "      <th>2</th>\n",
       "      <td>2015-10-03</td>\n",
       "      <td>70658</td>\n",
       "      <td>2313</td>\n",
       "      <td>49</td>\n",
       "      <td>0.86</td>\n",
       "      <td>970.90</td>\n",
       "      <td>ad_group_1</td>\n",
       "    </tr>\n",
       "    <tr>\n",
       "      <th>3</th>\n",
       "      <td>2015-10-04</td>\n",
       "      <td>69809</td>\n",
       "      <td>2833</td>\n",
       "      <td>51</td>\n",
       "      <td>1.01</td>\n",
       "      <td>907.39</td>\n",
       "      <td>ad_group_1</td>\n",
       "    </tr>\n",
       "    <tr>\n",
       "      <th>4</th>\n",
       "      <td>2015-10-05</td>\n",
       "      <td>68186</td>\n",
       "      <td>2696</td>\n",
       "      <td>41</td>\n",
       "      <td>1.00</td>\n",
       "      <td>879.45</td>\n",
       "      <td>ad_group_1</td>\n",
       "    </tr>\n",
       "  </tbody>\n",
       "</table>\n",
       "</div>"
      ],
      "text/plain": [
       "        date  shown  clicked  converted  cost  revenue          ad\n",
       "0 2015-10-01  65877     2339         43  0.90   641.62  ad_group_1\n",
       "1 2015-10-02  65100     2498         38  0.94   756.37  ad_group_1\n",
       "2 2015-10-03  70658     2313         49  0.86   970.90  ad_group_1\n",
       "3 2015-10-04  69809     2833         51  1.01   907.39  ad_group_1\n",
       "4 2015-10-05  68186     2696         41  1.00   879.45  ad_group_1"
      ]
     },
     "execution_count": 3,
     "metadata": {},
     "output_type": "execute_result"
    }
   ],
   "source": [
    "print (ads.shape)\n",
    "ads.head()"
   ]
  },
  {
   "cell_type": "markdown",
   "metadata": {},
   "source": [
    "- [Subtract two datetime to get the number of days (python)\n",
    "](https://stackoverflow.com/questions/43460584/subtract-two-datetime-to-get-the-number-of-days-python/43460688)\n",
    "\n",
    "- [Mastering Dates and Timestamps in Pandas (and Python in general)](https://towardsdatascience.com/mastering-dates-and-timestamps-in-pandas-and-python-in-general-5b8c6edcc50c)"
   ]
  },
  {
   "cell_type": "code",
   "execution_count": 10,
   "metadata": {
    "scrolled": true
   },
   "outputs": [],
   "source": [
    "################################\n",
    "X = ads.loc[:,['ad','date','shown']]\n",
    "firstday = X.date.min()\n",
    "X['days'] = X.date.map(lambda dt: (dt - firstday).days)\n",
    "X['weekday'] = X.date.map(lambda dt: dt.day_name())"
   ]
  },
  {
   "cell_type": "code",
   "execution_count": 38,
   "metadata": {},
   "outputs": [
    {
     "name": "stdout",
     "output_type": "stream",
     "text": [
      "2015-10-01 00:00:00 <class 'pandas._libs.tslibs.timestamps.Timestamp'>\n"
     ]
    },
    {
     "data": {
      "text/plain": [
       "0   2015-10-01\n",
       "Name: date, dtype: datetime64[ns]"
      ]
     },
     "execution_count": 38,
     "metadata": {},
     "output_type": "execute_result"
    }
   ],
   "source": [
    "print (firstday, type(firstday))\n",
    "X.date.head(1)"
   ]
  },
  {
   "cell_type": "code",
   "execution_count": 11,
   "metadata": {},
   "outputs": [
    {
     "data": {
      "text/html": [
       "<div>\n",
       "<style scoped>\n",
       "    .dataframe tbody tr th:only-of-type {\n",
       "        vertical-align: middle;\n",
       "    }\n",
       "\n",
       "    .dataframe tbody tr th {\n",
       "        vertical-align: top;\n",
       "    }\n",
       "\n",
       "    .dataframe thead th {\n",
       "        text-align: right;\n",
       "    }\n",
       "</style>\n",
       "<table border=\"1\" class=\"dataframe\">\n",
       "  <thead>\n",
       "    <tr style=\"text-align: right;\">\n",
       "      <th></th>\n",
       "      <th>ad</th>\n",
       "      <th>date</th>\n",
       "      <th>shown</th>\n",
       "      <th>days</th>\n",
       "      <th>weekday</th>\n",
       "    </tr>\n",
       "  </thead>\n",
       "  <tbody>\n",
       "    <tr>\n",
       "      <th>0</th>\n",
       "      <td>ad_group_1</td>\n",
       "      <td>2015-10-01</td>\n",
       "      <td>65877</td>\n",
       "      <td>0</td>\n",
       "      <td>Thursday</td>\n",
       "    </tr>\n",
       "    <tr>\n",
       "      <th>1</th>\n",
       "      <td>ad_group_1</td>\n",
       "      <td>2015-10-02</td>\n",
       "      <td>65100</td>\n",
       "      <td>1</td>\n",
       "      <td>Friday</td>\n",
       "    </tr>\n",
       "    <tr>\n",
       "      <th>2</th>\n",
       "      <td>ad_group_1</td>\n",
       "      <td>2015-10-03</td>\n",
       "      <td>70658</td>\n",
       "      <td>2</td>\n",
       "      <td>Saturday</td>\n",
       "    </tr>\n",
       "    <tr>\n",
       "      <th>3</th>\n",
       "      <td>ad_group_1</td>\n",
       "      <td>2015-10-04</td>\n",
       "      <td>69809</td>\n",
       "      <td>3</td>\n",
       "      <td>Sunday</td>\n",
       "    </tr>\n",
       "    <tr>\n",
       "      <th>4</th>\n",
       "      <td>ad_group_1</td>\n",
       "      <td>2015-10-05</td>\n",
       "      <td>68186</td>\n",
       "      <td>4</td>\n",
       "      <td>Monday</td>\n",
       "    </tr>\n",
       "  </tbody>\n",
       "</table>\n",
       "</div>"
      ],
      "text/plain": [
       "           ad       date  shown  days   weekday\n",
       "0  ad_group_1 2015-10-01  65877     0  Thursday\n",
       "1  ad_group_1 2015-10-02  65100     1    Friday\n",
       "2  ad_group_1 2015-10-03  70658     2  Saturday\n",
       "3  ad_group_1 2015-10-04  69809     3    Sunday\n",
       "4  ad_group_1 2015-10-05  68186     4    Monday"
      ]
     },
     "execution_count": 11,
     "metadata": {},
     "output_type": "execute_result"
    }
   ],
   "source": [
    "X.head()"
   ]
  },
  {
   "cell_type": "code",
   "execution_count": 19,
   "metadata": {},
   "outputs": [
    {
     "data": {
      "text/html": [
       "<div>\n",
       "<style scoped>\n",
       "    .dataframe tbody tr th:only-of-type {\n",
       "        vertical-align: middle;\n",
       "    }\n",
       "\n",
       "    .dataframe tbody tr th {\n",
       "        vertical-align: top;\n",
       "    }\n",
       "\n",
       "    .dataframe thead th {\n",
       "        text-align: right;\n",
       "    }\n",
       "</style>\n",
       "<table border=\"1\" class=\"dataframe\">\n",
       "  <thead>\n",
       "    <tr style=\"text-align: right;\">\n",
       "      <th></th>\n",
       "      <th>ad</th>\n",
       "      <th>date</th>\n",
       "      <th>shown</th>\n",
       "      <th>days</th>\n",
       "      <th>_Friday</th>\n",
       "      <th>_Monday</th>\n",
       "      <th>_Saturday</th>\n",
       "      <th>_Sunday</th>\n",
       "      <th>_Thursday</th>\n",
       "      <th>_Tuesday</th>\n",
       "      <th>_Wednesday</th>\n",
       "    </tr>\n",
       "  </thead>\n",
       "  <tbody>\n",
       "    <tr>\n",
       "      <th>0</th>\n",
       "      <td>ad_group_1</td>\n",
       "      <td>2015-10-01</td>\n",
       "      <td>65877</td>\n",
       "      <td>0</td>\n",
       "      <td>0</td>\n",
       "      <td>0</td>\n",
       "      <td>0</td>\n",
       "      <td>0</td>\n",
       "      <td>1</td>\n",
       "      <td>0</td>\n",
       "      <td>0</td>\n",
       "    </tr>\n",
       "  </tbody>\n",
       "</table>\n",
       "</div>"
      ],
      "text/plain": [
       "           ad       date  shown  days  _Friday  _Monday  _Saturday  _Sunday  \\\n",
       "0  ad_group_1 2015-10-01  65877     0        0        0          0        0   \n",
       "\n",
       "   _Thursday  _Tuesday  _Wednesday  \n",
       "0          1         0           0  "
      ]
     },
     "execution_count": 19,
     "metadata": {},
     "output_type": "execute_result"
    }
   ],
   "source": [
    "pd.get_dummies(X, columns=['weekday'], prefix='').head(1)"
   ]
  },
  {
   "cell_type": "code",
   "execution_count": 21,
   "metadata": {},
   "outputs": [
    {
     "data": {
      "text/html": [
       "<div>\n",
       "<style scoped>\n",
       "    .dataframe tbody tr th:only-of-type {\n",
       "        vertical-align: middle;\n",
       "    }\n",
       "\n",
       "    .dataframe tbody tr th {\n",
       "        vertical-align: top;\n",
       "    }\n",
       "\n",
       "    .dataframe thead th {\n",
       "        text-align: right;\n",
       "    }\n",
       "</style>\n",
       "<table border=\"1\" class=\"dataframe\">\n",
       "  <thead>\n",
       "    <tr style=\"text-align: right;\">\n",
       "      <th></th>\n",
       "      <th>ad</th>\n",
       "      <th>date</th>\n",
       "      <th>shown</th>\n",
       "      <th>days</th>\n",
       "      <th>weekdayFriday</th>\n",
       "      <th>weekdayMonday</th>\n",
       "      <th>weekdaySaturday</th>\n",
       "      <th>weekdaySunday</th>\n",
       "      <th>weekdayThursday</th>\n",
       "      <th>weekdayTuesday</th>\n",
       "      <th>weekdayWednesday</th>\n",
       "    </tr>\n",
       "  </thead>\n",
       "  <tbody>\n",
       "    <tr>\n",
       "      <th>0</th>\n",
       "      <td>ad_group_1</td>\n",
       "      <td>2015-10-01</td>\n",
       "      <td>65877</td>\n",
       "      <td>0</td>\n",
       "      <td>0</td>\n",
       "      <td>0</td>\n",
       "      <td>0</td>\n",
       "      <td>0</td>\n",
       "      <td>1</td>\n",
       "      <td>0</td>\n",
       "      <td>0</td>\n",
       "    </tr>\n",
       "  </tbody>\n",
       "</table>\n",
       "</div>"
      ],
      "text/plain": [
       "           ad       date  shown  days  weekdayFriday  weekdayMonday  \\\n",
       "0  ad_group_1 2015-10-01  65877     0              0              0   \n",
       "\n",
       "   weekdaySaturday  weekdaySunday  weekdayThursday  weekdayTuesday  \\\n",
       "0                0              0                1               0   \n",
       "\n",
       "   weekdayWednesday  \n",
       "0                 0  "
      ]
     },
     "execution_count": 21,
     "metadata": {},
     "output_type": "execute_result"
    }
   ],
   "source": [
    "pd.get_dummies(X,columns=['weekday'],prefix_sep='').head(1)"
   ]
  },
  {
   "cell_type": "code",
   "execution_count": 22,
   "metadata": {},
   "outputs": [
    {
     "data": {
      "text/html": [
       "<div>\n",
       "<style scoped>\n",
       "    .dataframe tbody tr th:only-of-type {\n",
       "        vertical-align: middle;\n",
       "    }\n",
       "\n",
       "    .dataframe tbody tr th {\n",
       "        vertical-align: top;\n",
       "    }\n",
       "\n",
       "    .dataframe thead th {\n",
       "        text-align: right;\n",
       "    }\n",
       "</style>\n",
       "<table border=\"1\" class=\"dataframe\">\n",
       "  <thead>\n",
       "    <tr style=\"text-align: right;\">\n",
       "      <th></th>\n",
       "      <th>ad</th>\n",
       "      <th>date</th>\n",
       "      <th>shown</th>\n",
       "      <th>days</th>\n",
       "      <th>Friday</th>\n",
       "      <th>Monday</th>\n",
       "      <th>Saturday</th>\n",
       "      <th>Thursday</th>\n",
       "      <th>Tuesday</th>\n",
       "      <th>Wednesday</th>\n",
       "    </tr>\n",
       "  </thead>\n",
       "  <tbody>\n",
       "    <tr>\n",
       "      <th>0</th>\n",
       "      <td>ad_group_1</td>\n",
       "      <td>2015-10-01</td>\n",
       "      <td>65877</td>\n",
       "      <td>0</td>\n",
       "      <td>0</td>\n",
       "      <td>0</td>\n",
       "      <td>0</td>\n",
       "      <td>1</td>\n",
       "      <td>0</td>\n",
       "      <td>0</td>\n",
       "    </tr>\n",
       "    <tr>\n",
       "      <th>1</th>\n",
       "      <td>ad_group_1</td>\n",
       "      <td>2015-10-02</td>\n",
       "      <td>65100</td>\n",
       "      <td>1</td>\n",
       "      <td>1</td>\n",
       "      <td>0</td>\n",
       "      <td>0</td>\n",
       "      <td>0</td>\n",
       "      <td>0</td>\n",
       "      <td>0</td>\n",
       "    </tr>\n",
       "    <tr>\n",
       "      <th>2</th>\n",
       "      <td>ad_group_1</td>\n",
       "      <td>2015-10-03</td>\n",
       "      <td>70658</td>\n",
       "      <td>2</td>\n",
       "      <td>0</td>\n",
       "      <td>0</td>\n",
       "      <td>1</td>\n",
       "      <td>0</td>\n",
       "      <td>0</td>\n",
       "      <td>0</td>\n",
       "    </tr>\n",
       "    <tr>\n",
       "      <th>3</th>\n",
       "      <td>ad_group_1</td>\n",
       "      <td>2015-10-04</td>\n",
       "      <td>69809</td>\n",
       "      <td>3</td>\n",
       "      <td>0</td>\n",
       "      <td>0</td>\n",
       "      <td>0</td>\n",
       "      <td>0</td>\n",
       "      <td>0</td>\n",
       "      <td>0</td>\n",
       "    </tr>\n",
       "    <tr>\n",
       "      <th>4</th>\n",
       "      <td>ad_group_1</td>\n",
       "      <td>2015-10-05</td>\n",
       "      <td>68186</td>\n",
       "      <td>4</td>\n",
       "      <td>0</td>\n",
       "      <td>1</td>\n",
       "      <td>0</td>\n",
       "      <td>0</td>\n",
       "      <td>0</td>\n",
       "      <td>0</td>\n",
       "    </tr>\n",
       "  </tbody>\n",
       "</table>\n",
       "</div>"
      ],
      "text/plain": [
       "           ad       date  shown  days  Friday  Monday  Saturday  Thursday  \\\n",
       "0  ad_group_1 2015-10-01  65877     0       0       0         0         1   \n",
       "1  ad_group_1 2015-10-02  65100     1       1       0         0         0   \n",
       "2  ad_group_1 2015-10-03  70658     2       0       0         1         0   \n",
       "3  ad_group_1 2015-10-04  69809     3       0       0         0         0   \n",
       "4  ad_group_1 2015-10-05  68186     4       0       1         0         0   \n",
       "\n",
       "   Tuesday  Wednesday  \n",
       "0        0          0  \n",
       "1        0          0  \n",
       "2        0          0  \n",
       "3        0          0  \n",
       "4        0          0  "
      ]
     },
     "execution_count": 22,
     "metadata": {},
     "output_type": "execute_result"
    }
   ],
   "source": [
    "X = pd.get_dummies(X,columns=['weekday'],prefix='',prefix_sep='')\n",
    "del X['Sunday']\n",
    "X.head()"
   ]
  },
  {
   "cell_type": "code",
   "execution_count": 23,
   "metadata": {},
   "outputs": [],
   "source": [
    "#######################\n",
    "time_features = [u'days', u'Friday', u'Monday', u'Saturday',u'Thursday', u'Tuesday', u'Wednesday']\n",
    "\n",
    "def fit_linear_regression(df):\n",
    "    features = df.loc[:,time_features]\n",
    "    target = df['shown']\n",
    "\n",
    "    lr = LinearRegression()\n",
    "    lr.fit(features,target)\n",
    "\n",
    "    return lr\n",
    "\n",
    "lrmodels = X.groupby(by='ad').apply(fit_linear_regression)"
   ]
  },
  {
   "cell_type": "code",
   "execution_count": 28,
   "metadata": {
    "scrolled": true
   },
   "outputs": [
    {
     "name": "stdout",
     "output_type": "stream",
     "text": [
      "40\n"
     ]
    },
    {
     "data": {
      "text/plain": [
       "ad\n",
       "ad_group_1     LinearRegression()\n",
       "ad_group_10    LinearRegression()\n",
       "ad_group_11    LinearRegression()\n",
       "ad_group_12    LinearRegression()\n",
       "ad_group_13    LinearRegression()\n",
       "dtype: object"
      ]
     },
     "execution_count": 28,
     "metadata": {},
     "output_type": "execute_result"
    }
   ],
   "source": [
    "print (len(lrmodels))\n",
    "lrmodels[:5]"
   ]
  },
  {
   "cell_type": "code",
   "execution_count": 33,
   "metadata": {},
   "outputs": [
    {
     "data": {
      "text/plain": [
       "[<matplotlib.lines.Line2D at 0x1237d1490>]"
      ]
     },
     "execution_count": 33,
     "metadata": {},
     "output_type": "execute_result"
    },
    {
     "data": {
      "image/png": "[encoded data removed]",
      "text/plain": [
       "<Figure size 432x288 with 1 Axes>"
      ]
     },
     "metadata": {},
     "output_type": "display_data"
    }
   ],
   "source": [
    "##########################\n",
    "adname = 'ad_group_15'\n",
    "data = X.loc[X.ad == adname,time_features]\n",
    "ytrue = X.loc[X.ad == adname,'shown']\n",
    "\n",
    "model = lrmodels.loc[adname]\n",
    "ypred = model.predict(data)\n",
    "\n",
    "plt.plot(data.days,ytrue,marker='o')\n",
    "plt.plot(data.days,ypred,marker='*')"
   ]
  },
  {
   "cell_type": "code",
   "execution_count": 39,
   "metadata": {},
   "outputs": [
    {
     "data": {
      "text/html": [
       "<div>\n",
       "<style scoped>\n",
       "    .dataframe tbody tr th:only-of-type {\n",
       "        vertical-align: middle;\n",
       "    }\n",
       "\n",
       "    .dataframe tbody tr th {\n",
       "        vertical-align: top;\n",
       "    }\n",
       "\n",
       "    .dataframe thead th {\n",
       "        text-align: right;\n",
       "    }\n",
       "</style>\n",
       "<table border=\"1\" class=\"dataframe\">\n",
       "  <thead>\n",
       "    <tr style=\"text-align: right;\">\n",
       "      <th></th>\n",
       "      <th>date</th>\n",
       "      <th>shown</th>\n",
       "      <th>clicked</th>\n",
       "      <th>converted</th>\n",
       "      <th>cost</th>\n",
       "      <th>revenue</th>\n",
       "      <th>ad</th>\n",
       "    </tr>\n",
       "  </thead>\n",
       "  <tbody>\n",
       "    <tr>\n",
       "      <th>0</th>\n",
       "      <td>2015-10-01</td>\n",
       "      <td>65877</td>\n",
       "      <td>2339</td>\n",
       "      <td>43</td>\n",
       "      <td>0.90</td>\n",
       "      <td>641.62</td>\n",
       "      <td>ad_group_1</td>\n",
       "    </tr>\n",
       "    <tr>\n",
       "      <th>1</th>\n",
       "      <td>2015-10-02</td>\n",
       "      <td>65100</td>\n",
       "      <td>2498</td>\n",
       "      <td>38</td>\n",
       "      <td>0.94</td>\n",
       "      <td>756.37</td>\n",
       "      <td>ad_group_1</td>\n",
       "    </tr>\n",
       "    <tr>\n",
       "      <th>2</th>\n",
       "      <td>2015-10-03</td>\n",
       "      <td>70658</td>\n",
       "      <td>2313</td>\n",
       "      <td>49</td>\n",
       "      <td>0.86</td>\n",
       "      <td>970.90</td>\n",
       "      <td>ad_group_1</td>\n",
       "    </tr>\n",
       "    <tr>\n",
       "      <th>3</th>\n",
       "      <td>2015-10-04</td>\n",
       "      <td>69809</td>\n",
       "      <td>2833</td>\n",
       "      <td>51</td>\n",
       "      <td>1.01</td>\n",
       "      <td>907.39</td>\n",
       "      <td>ad_group_1</td>\n",
       "    </tr>\n",
       "    <tr>\n",
       "      <th>4</th>\n",
       "      <td>2015-10-05</td>\n",
       "      <td>68186</td>\n",
       "      <td>2696</td>\n",
       "      <td>41</td>\n",
       "      <td>1.00</td>\n",
       "      <td>879.45</td>\n",
       "      <td>ad_group_1</td>\n",
       "    </tr>\n",
       "  </tbody>\n",
       "</table>\n",
       "</div>"
      ],
      "text/plain": [
       "        date  shown  clicked  converted  cost  revenue          ad\n",
       "0 2015-10-01  65877     2339         43  0.90   641.62  ad_group_1\n",
       "1 2015-10-02  65100     2498         38  0.94   756.37  ad_group_1\n",
       "2 2015-10-03  70658     2313         49  0.86   970.90  ad_group_1\n",
       "3 2015-10-04  69809     2833         51  1.01   907.39  ad_group_1\n",
       "4 2015-10-05  68186     2696         41  1.00   879.45  ad_group_1"
      ]
     },
     "execution_count": 39,
     "metadata": {},
     "output_type": "execute_result"
    }
   ],
   "source": [
    "ads.head()"
   ]
  },
  {
   "cell_type": "code",
   "execution_count": 40,
   "metadata": {},
   "outputs": [],
   "source": [
    "###############################\n",
    "ads['net_revenue'] = ads.apply(lambda s: s['revenue'] - s['cost'] * s['clicked'],axis=1)\n",
    "\n",
    "def avg_net_revenue_per_show(df):\n",
    "    total_net_revenue = df.net_revenue.sum()\n",
    "    total_shown = df.shown.sum()\n",
    "    return total_net_revenue / total_shown\n",
    "\n",
    "net_revenue_per_show_grps = ads.groupby(\"ad\").apply(avg_net_revenue_per_show).sort_values(ascending=False)"
   ]
  },
  {
   "cell_type": "code",
   "execution_count": 44,
   "metadata": {
    "scrolled": true
   },
   "outputs": [
    {
     "name": "stdout",
     "output_type": "stream",
     "text": [
      "40\n"
     ]
    },
    {
     "data": {
      "text/plain": [
       "ad\n",
       "ad_group_16    0.020516\n",
       "ad_group_2     0.020116\n",
       "ad_group_14    0.016485\n",
       "ad_group_31    0.005824\n",
       "ad_group_27    0.000725\n",
       "dtype: float64"
      ]
     },
     "execution_count": 44,
     "metadata": {},
     "output_type": "execute_result"
    }
   ],
   "source": [
    "print (len(net_revenue_per_show_grps))\n",
    "net_revenue_per_show_grps[:5]"
   ]
  },
  {
   "cell_type": "code",
   "execution_count": 61,
   "metadata": {},
   "outputs": [
    {
     "name": "stderr",
     "output_type": "stream",
     "text": [
      "<ipython-input-61-e000787b1109>:17: RuntimeWarning: divide by zero encountered in true_divide\n",
      "  __statistics(curr_cost / prev_cost,'chrate',d)\n"
     ]
    }
   ],
   "source": [
    "###################\n",
    "def __statistics(values,suffix,d):\n",
    "    d['mean_{}'.format(suffix)] = values.mean()\n",
    "\n",
    "    qs = [25, 50, 75]\n",
    "    percentiles = np.percentile(values, qs) # [0.52155573, 0.99722222, 1.89079365]\n",
    "#     for q, p in itertools.izip(qs, percentiles):\n",
    "    for q, p in zip(qs, percentiles):\n",
    "        d['{}p_{}'.format(q,suffix)] = p \n",
    "\n",
    "def statistics_changes(df):\n",
    "    costs = df.sort_values(by='date')['cost'].values # array([0.9 , 2.62, 0.72, ..., 1.71, 1.87, 0.99])\n",
    "    prev_cost = costs[:-1] # array([0.9 , 2.62, 0.72, ..., 1.82, 1.71, 1.87])\n",
    "    curr_cost = costs[1:] # array([2.62, 0.72, 4.19, ..., 1.71, 1.87, 0.99])\n",
    "\n",
    "    d = {}\n",
    "    __statistics(curr_cost / prev_cost,'chrate',d)\n",
    "    __statistics(curr_cost - prev_cost,'abschg',d)\n",
    "\n",
    "    return pd.Series(d)\n",
    "\n",
    "change_statistics = ads.groupby('ad').apply(statistics_changes)"
   ]
  },
  {
   "cell_type": "code",
   "execution_count": 63,
   "metadata": {
    "scrolled": true
   },
   "outputs": [
    {
     "name": "stdout",
     "output_type": "stream",
     "text": [
      "(40, 8)\n"
     ]
    },
    {
     "data": {
      "text/html": [
       "<div>\n",
       "<style scoped>\n",
       "    .dataframe tbody tr th:only-of-type {\n",
       "        vertical-align: middle;\n",
       "    }\n",
       "\n",
       "    .dataframe tbody tr th {\n",
       "        vertical-align: top;\n",
       "    }\n",
       "\n",
       "    .dataframe thead th {\n",
       "        text-align: right;\n",
       "    }\n",
       "</style>\n",
       "<table border=\"1\" class=\"dataframe\">\n",
       "  <thead>\n",
       "    <tr style=\"text-align: right;\">\n",
       "      <th></th>\n",
       "      <th>mean_chrate</th>\n",
       "      <th>25p_chrate</th>\n",
       "      <th>50p_chrate</th>\n",
       "      <th>75p_chrate</th>\n",
       "      <th>mean_abschg</th>\n",
       "      <th>25p_abschg</th>\n",
       "      <th>50p_abschg</th>\n",
       "      <th>75p_abschg</th>\n",
       "    </tr>\n",
       "    <tr>\n",
       "      <th>ad</th>\n",
       "      <th></th>\n",
       "      <th></th>\n",
       "      <th></th>\n",
       "      <th></th>\n",
       "      <th></th>\n",
       "      <th></th>\n",
       "      <th></th>\n",
       "      <th></th>\n",
       "    </tr>\n",
       "  </thead>\n",
       "  <tbody>\n",
       "    <tr>\n",
       "      <th>ad_group_1</th>\n",
       "      <td>1.007436</td>\n",
       "      <td>0.930747</td>\n",
       "      <td>0.989999</td>\n",
       "      <td>1.094223</td>\n",
       "      <td>0.001538</td>\n",
       "      <td>-0.0725</td>\n",
       "      <td>-0.010</td>\n",
       "      <td>0.0850</td>\n",
       "    </tr>\n",
       "    <tr>\n",
       "      <th>ad_group_10</th>\n",
       "      <td>1.011576</td>\n",
       "      <td>0.920666</td>\n",
       "      <td>0.976923</td>\n",
       "      <td>1.105323</td>\n",
       "      <td>0.003137</td>\n",
       "      <td>-0.0900</td>\n",
       "      <td>-0.030</td>\n",
       "      <td>0.1100</td>\n",
       "    </tr>\n",
       "    <tr>\n",
       "      <th>ad_group_11</th>\n",
       "      <td>inf</td>\n",
       "      <td>0.957944</td>\n",
       "      <td>1.002941</td>\n",
       "      <td>1.052941</td>\n",
       "      <td>0.005769</td>\n",
       "      <td>-0.0725</td>\n",
       "      <td>0.005</td>\n",
       "      <td>0.0900</td>\n",
       "    </tr>\n",
       "    <tr>\n",
       "      <th>ad_group_12</th>\n",
       "      <td>inf</td>\n",
       "      <td>0.945670</td>\n",
       "      <td>1.005051</td>\n",
       "      <td>1.060455</td>\n",
       "      <td>-0.002692</td>\n",
       "      <td>-0.1200</td>\n",
       "      <td>0.010</td>\n",
       "      <td>0.1200</td>\n",
       "    </tr>\n",
       "    <tr>\n",
       "      <th>ad_group_13</th>\n",
       "      <td>inf</td>\n",
       "      <td>0.958716</td>\n",
       "      <td>1.000015</td>\n",
       "      <td>1.071825</td>\n",
       "      <td>-0.001538</td>\n",
       "      <td>-0.0725</td>\n",
       "      <td>0.000</td>\n",
       "      <td>0.1125</td>\n",
       "    </tr>\n",
       "  </tbody>\n",
       "</table>\n",
       "</div>"
      ],
      "text/plain": [
       "             mean_chrate  25p_chrate  50p_chrate  75p_chrate  mean_abschg  \\\n",
       "ad                                                                          \n",
       "ad_group_1      1.007436    0.930747    0.989999    1.094223     0.001538   \n",
       "ad_group_10     1.011576    0.920666    0.976923    1.105323     0.003137   \n",
       "ad_group_11          inf    0.957944    1.002941    1.052941     0.005769   \n",
       "ad_group_12          inf    0.945670    1.005051    1.060455    -0.002692   \n",
       "ad_group_13          inf    0.958716    1.000015    1.071825    -0.001538   \n",
       "\n",
       "             25p_abschg  50p_abschg  75p_abschg  \n",
       "ad                                               \n",
       "ad_group_1      -0.0725      -0.010      0.0850  \n",
       "ad_group_10     -0.0900      -0.030      0.1100  \n",
       "ad_group_11     -0.0725       0.005      0.0900  \n",
       "ad_group_12     -0.1200       0.010      0.1200  \n",
       "ad_group_13     -0.0725       0.000      0.1125  "
      ]
     },
     "execution_count": 63,
     "metadata": {},
     "output_type": "execute_result"
    }
   ],
   "source": [
    "print (change_statistics.shape)\n",
    "change_statistics.head()"
   ]
  },
  {
   "cell_type": "code",
   "execution_count": 64,
   "metadata": {
    "scrolled": true
   },
   "outputs": [
    {
     "data": {
      "text/plain": [
       "<AxesSubplot:>"
      ]
     },
     "execution_count": 64,
     "metadata": {},
     "output_type": "execute_result"
    },
    {
     "data": {
      "image/png": "[encoded data removed]",
      "text/plain": [
       "<Figure size 432x288 with 1 Axes>"
      ]
     },
     "metadata": {},
     "output_type": "display_data"
    }
   ],
   "source": [
    "change_statistics['mean_abschg'].hist(bins=50)"
   ]
  },
  {
   "cell_type": "code",
   "execution_count": 66,
   "metadata": {
    "scrolled": false
   },
   "outputs": [
    {
     "data": {
      "text/plain": [
       "array([[<AxesSubplot:title={'center':'25p_abschg'}>,\n",
       "        <AxesSubplot:title={'center':'25p_chrate'}>,\n",
       "        <AxesSubplot:title={'center':'50p_abschg'}>],\n",
       "       [<AxesSubplot:title={'center':'50p_chrate'}>,\n",
       "        <AxesSubplot:title={'center':'75p_abschg'}>,\n",
       "        <AxesSubplot:title={'center':'75p_chrate'}>],\n",
       "       [<AxesSubplot:title={'center':'mean_abschg'}>, <AxesSubplot:>,\n",
       "        <AxesSubplot:>]], dtype=object)"
      ]
     },
     "execution_count": 66,
     "metadata": {},
     "output_type": "execute_result"
    },
    {
     "data": {
      "image/png": "[encoded data removed]",
      "text/plain": [
       "<Figure size 432x288 with 9 Axes>"
      ]
     },
     "metadata": {},
     "output_type": "display_data"
    }
   ],
   "source": [
    "change_statistics.loc[:,[u'25p_abschg', u'25p_chrate', u'50p_abschg', u'50p_chrate',u'75p_abschg', \\\n",
    "                         u'75p_chrate', u'mean_abschg']].hist(bins=50)"
   ]
  },
  {
   "cell_type": "code",
   "execution_count": null,
   "metadata": {},
   "outputs": [],
   "source": []
  }
 ],
 "metadata": {
  "kernelspec": {
   "display_name": "Python 3",
   "language": "python",
   "name": "python3"
  },
  "language_info": {
   "codemirror_mode": {
    "name": "ipython",
    "version": 3
   },
   "file_extension": ".py",
   "mimetype": "text/x-python",
   "name": "python",
   "nbconvert_exporter": "python",
   "pygments_lexer": "ipython3",
   "version": "3.8.5"
  }
 },
 "nbformat": 4,
 "nbformat_minor": 4
}
